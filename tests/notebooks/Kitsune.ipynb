{
 "cells": [
  {
   "cell_type": "code",
   "execution_count": null,
   "metadata": {
    "vscode": {
     "languageId": "plaintext"
    }
   },
   "outputs": [],
   "source": [
    "#!/bin/bash\n",
    "curl -L -o ~/Downloads/network-attack-dataset-kitsune.zip\\\n",
    "  https://www.kaggle.com/api/v1/datasets/download/ymirsky/network-attack-dataset-kitsune"
   ]
  }
 ],
 "metadata": {
  "language_info": {
   "name": "python"
  }
 },
 "nbformat": 4,
 "nbformat_minor": 2
}
